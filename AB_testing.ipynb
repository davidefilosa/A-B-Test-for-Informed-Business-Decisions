{
 "cells": [
  {
   "cell_type": "markdown",
   "id": "1386b3fc",
   "metadata": {},
   "source": [
    "# Project description\n",
    "\n",
    "In this project we will study the revenue for an online store. We have a list of hypotheses that could boost revenue. We will choose which of these hypotheses to prioritize and then analyze the result using an A / B test."
   ]
  },
  {
   "cell_type": "markdown",
   "id": "e84b58c2",
   "metadata": {},
   "source": [
    "# Part 1. Prioritizing Hypotheses\n"
   ]
  },
  {
   "cell_type": "markdown",
   "id": "b95f9c31",
   "metadata": {},
   "source": [
    "Importing data and libraries\n",
    "\n"
   ]
  },
  {
   "cell_type": "code",
   "execution_count": 1,
   "id": "908159a1",
   "metadata": {},
   "outputs": [],
   "source": [
    "import pandas as pd\n",
    "import datetime as dt\n",
    "import numpy as np\n",
    "import matplotlib.pyplot as plt\n",
    "import scipy.stats as stats\n",
    "from pandas.plotting import register_matplotlib_converters\n",
    "register_matplotlib_converters()\n",
    "pd.set_option('max_colwidth', 400)\n",
    "\n",
    "import warnings\n",
    "warnings.filterwarnings(\"ignore\")\n"
   ]
  },
  {
   "cell_type": "code",
   "execution_count": 2,
   "id": "af970266",
   "metadata": {},
   "outputs": [],
   "source": [
    "hypotheses = pd.read_csv('datasets/hypotheses_us.csv', sep=';')"
   ]
  },
  {
   "cell_type": "markdown",
   "id": "dcfc6fbc",
   "metadata": {},
   "source": [
    "Previewing first five rows and general information of data.\n",
    "\n"
   ]
  },
  {
   "cell_type": "code",
   "execution_count": 3,
   "id": "fd86b574",
   "metadata": {},
   "outputs": [
    {
     "name": "stdout",
     "output_type": "stream",
     "text": [
      "<class 'pandas.core.frame.DataFrame'>\n",
      "RangeIndex: 9 entries, 0 to 8\n",
      "Data columns (total 5 columns):\n",
      " #   Column      Non-Null Count  Dtype \n",
      "---  ------      --------------  ----- \n",
      " 0   Hypothesis  9 non-null      object\n",
      " 1   Reach       9 non-null      int64 \n",
      " 2   Impact      9 non-null      int64 \n",
      " 3   Confidence  9 non-null      int64 \n",
      " 4   Effort      9 non-null      int64 \n",
      "dtypes: int64(4), object(1)\n",
      "memory usage: 488.0+ bytes\n"
     ]
    }
   ],
   "source": [
    "hypotheses.info()"
   ]
  },
  {
   "cell_type": "code",
   "execution_count": 4,
   "id": "d1b95629",
   "metadata": {},
   "outputs": [
    {
     "data": {
      "text/html": [
       "<div>\n",
       "<style scoped>\n",
       "    .dataframe tbody tr th:only-of-type {\n",
       "        vertical-align: middle;\n",
       "    }\n",
       "\n",
       "    .dataframe tbody tr th {\n",
       "        vertical-align: top;\n",
       "    }\n",
       "\n",
       "    .dataframe thead th {\n",
       "        text-align: right;\n",
       "    }\n",
       "</style>\n",
       "<table border=\"1\" class=\"dataframe\">\n",
       "  <thead>\n",
       "    <tr style=\"text-align: right;\">\n",
       "      <th></th>\n",
       "      <th>Hypothesis</th>\n",
       "      <th>Reach</th>\n",
       "      <th>Impact</th>\n",
       "      <th>Confidence</th>\n",
       "      <th>Effort</th>\n",
       "    </tr>\n",
       "  </thead>\n",
       "  <tbody>\n",
       "    <tr>\n",
       "      <th>0</th>\n",
       "      <td>Add two new channels for attracting traffic. This will bring 30% more users</td>\n",
       "      <td>3</td>\n",
       "      <td>10</td>\n",
       "      <td>8</td>\n",
       "      <td>6</td>\n",
       "    </tr>\n",
       "    <tr>\n",
       "      <th>1</th>\n",
       "      <td>Launch your own delivery service. This will shorten delivery time</td>\n",
       "      <td>2</td>\n",
       "      <td>5</td>\n",
       "      <td>4</td>\n",
       "      <td>10</td>\n",
       "    </tr>\n",
       "    <tr>\n",
       "      <th>2</th>\n",
       "      <td>Add product recommendation blocks to the store's site. This will increase conversion and average purchase size</td>\n",
       "      <td>8</td>\n",
       "      <td>3</td>\n",
       "      <td>7</td>\n",
       "      <td>3</td>\n",
       "    </tr>\n",
       "    <tr>\n",
       "      <th>3</th>\n",
       "      <td>Change the category structure. This will increase conversion since users will find the products they want more quickly</td>\n",
       "      <td>8</td>\n",
       "      <td>3</td>\n",
       "      <td>3</td>\n",
       "      <td>8</td>\n",
       "    </tr>\n",
       "    <tr>\n",
       "      <th>4</th>\n",
       "      <td>Change the background color on the main page. This will increase user engagement</td>\n",
       "      <td>3</td>\n",
       "      <td>1</td>\n",
       "      <td>1</td>\n",
       "      <td>1</td>\n",
       "    </tr>\n",
       "    <tr>\n",
       "      <th>5</th>\n",
       "      <td>Add a customer review page. This will increase the number of orders</td>\n",
       "      <td>3</td>\n",
       "      <td>2</td>\n",
       "      <td>2</td>\n",
       "      <td>3</td>\n",
       "    </tr>\n",
       "    <tr>\n",
       "      <th>6</th>\n",
       "      <td>Show banners with current offers and sales on the main page. This will boost conversion</td>\n",
       "      <td>5</td>\n",
       "      <td>3</td>\n",
       "      <td>8</td>\n",
       "      <td>3</td>\n",
       "    </tr>\n",
       "    <tr>\n",
       "      <th>7</th>\n",
       "      <td>Add a subscription form to all the main pages. This will help you compile a mailing list</td>\n",
       "      <td>10</td>\n",
       "      <td>7</td>\n",
       "      <td>8</td>\n",
       "      <td>5</td>\n",
       "    </tr>\n",
       "    <tr>\n",
       "      <th>8</th>\n",
       "      <td>Launch a promotion that gives users discounts on their birthdays</td>\n",
       "      <td>1</td>\n",
       "      <td>9</td>\n",
       "      <td>9</td>\n",
       "      <td>5</td>\n",
       "    </tr>\n",
       "  </tbody>\n",
       "</table>\n",
       "</div>"
      ],
      "text/plain": [
       "                                                                                                               Hypothesis  \\\n",
       "0                                             Add two new channels for attracting traffic. This will bring 30% more users   \n",
       "1                                                       Launch your own delivery service. This will shorten delivery time   \n",
       "2          Add product recommendation blocks to the store's site. This will increase conversion and average purchase size   \n",
       "3  Change the category structure. This will increase conversion since users will find the products they want more quickly   \n",
       "4                                        Change the background color on the main page. This will increase user engagement   \n",
       "5                                                     Add a customer review page. This will increase the number of orders   \n",
       "6                                 Show banners with current offers and sales on the main page. This will boost conversion   \n",
       "7                                Add a subscription form to all the main pages. This will help you compile a mailing list   \n",
       "8                                                        Launch a promotion that gives users discounts on their birthdays   \n",
       "\n",
       "   Reach  Impact  Confidence  Effort  \n",
       "0      3      10           8       6  \n",
       "1      2       5           4      10  \n",
       "2      8       3           7       3  \n",
       "3      8       3           3       8  \n",
       "4      3       1           1       1  \n",
       "5      3       2           2       3  \n",
       "6      5       3           8       3  \n",
       "7     10       7           8       5  \n",
       "8      1       9           9       5  "
      ]
     },
     "execution_count": 4,
     "metadata": {},
     "output_type": "execute_result"
    }
   ],
   "source": [
    "hypotheses.head(9)"
   ]
  },
  {
   "cell_type": "markdown",
   "id": "e90a3a8d",
   "metadata": {},
   "source": [
    "We have a dataframe with 5 columns and 9 rows which correspond to 9 hypotheses. The columns contain the description of the hypothesis and the parameters Reach, Impact, Confidence and Effort. Each hypothesis has been assigned a value from 1 to 10 in correspondence with each parameter.\n",
    "\n",
    "We can prioritize the assumptions using the ICE and RICE frameworks."
   ]
  },
  {
   "cell_type": "markdown",
   "id": "77494b13",
   "metadata": {},
   "source": [
    "### Calculate ICE score"
   ]
  },
  {
   "cell_type": "code",
   "execution_count": 5,
   "id": "7052f44d",
   "metadata": {},
   "outputs": [],
   "source": [
    "hypotheses['ice_score'] = (hypotheses['Impact'] * hypotheses['Confidence']) / hypotheses['Effort']"
   ]
  },
  {
   "cell_type": "code",
   "execution_count": 6,
   "id": "c18f6f08",
   "metadata": {},
   "outputs": [
    {
     "data": {
      "text/html": [
       "<div>\n",
       "<style scoped>\n",
       "    .dataframe tbody tr th:only-of-type {\n",
       "        vertical-align: middle;\n",
       "    }\n",
       "\n",
       "    .dataframe tbody tr th {\n",
       "        vertical-align: top;\n",
       "    }\n",
       "\n",
       "    .dataframe thead th {\n",
       "        text-align: right;\n",
       "    }\n",
       "</style>\n",
       "<table border=\"1\" class=\"dataframe\">\n",
       "  <thead>\n",
       "    <tr style=\"text-align: right;\">\n",
       "      <th></th>\n",
       "      <th>Hypothesis</th>\n",
       "      <th>Reach</th>\n",
       "      <th>Impact</th>\n",
       "      <th>Confidence</th>\n",
       "      <th>Effort</th>\n",
       "      <th>ice_score</th>\n",
       "    </tr>\n",
       "  </thead>\n",
       "  <tbody>\n",
       "    <tr>\n",
       "      <th>8</th>\n",
       "      <td>Launch a promotion that gives users discounts on their birthdays</td>\n",
       "      <td>1</td>\n",
       "      <td>9</td>\n",
       "      <td>9</td>\n",
       "      <td>5</td>\n",
       "      <td>16.200000</td>\n",
       "    </tr>\n",
       "    <tr>\n",
       "      <th>0</th>\n",
       "      <td>Add two new channels for attracting traffic. This will bring 30% more users</td>\n",
       "      <td>3</td>\n",
       "      <td>10</td>\n",
       "      <td>8</td>\n",
       "      <td>6</td>\n",
       "      <td>13.333333</td>\n",
       "    </tr>\n",
       "    <tr>\n",
       "      <th>7</th>\n",
       "      <td>Add a subscription form to all the main pages. This will help you compile a mailing list</td>\n",
       "      <td>10</td>\n",
       "      <td>7</td>\n",
       "      <td>8</td>\n",
       "      <td>5</td>\n",
       "      <td>11.200000</td>\n",
       "    </tr>\n",
       "    <tr>\n",
       "      <th>6</th>\n",
       "      <td>Show banners with current offers and sales on the main page. This will boost conversion</td>\n",
       "      <td>5</td>\n",
       "      <td>3</td>\n",
       "      <td>8</td>\n",
       "      <td>3</td>\n",
       "      <td>8.000000</td>\n",
       "    </tr>\n",
       "    <tr>\n",
       "      <th>2</th>\n",
       "      <td>Add product recommendation blocks to the store's site. This will increase conversion and average purchase size</td>\n",
       "      <td>8</td>\n",
       "      <td>3</td>\n",
       "      <td>7</td>\n",
       "      <td>3</td>\n",
       "      <td>7.000000</td>\n",
       "    </tr>\n",
       "    <tr>\n",
       "      <th>1</th>\n",
       "      <td>Launch your own delivery service. This will shorten delivery time</td>\n",
       "      <td>2</td>\n",
       "      <td>5</td>\n",
       "      <td>4</td>\n",
       "      <td>10</td>\n",
       "      <td>2.000000</td>\n",
       "    </tr>\n",
       "    <tr>\n",
       "      <th>5</th>\n",
       "      <td>Add a customer review page. This will increase the number of orders</td>\n",
       "      <td>3</td>\n",
       "      <td>2</td>\n",
       "      <td>2</td>\n",
       "      <td>3</td>\n",
       "      <td>1.333333</td>\n",
       "    </tr>\n",
       "    <tr>\n",
       "      <th>3</th>\n",
       "      <td>Change the category structure. This will increase conversion since users will find the products they want more quickly</td>\n",
       "      <td>8</td>\n",
       "      <td>3</td>\n",
       "      <td>3</td>\n",
       "      <td>8</td>\n",
       "      <td>1.125000</td>\n",
       "    </tr>\n",
       "    <tr>\n",
       "      <th>4</th>\n",
       "      <td>Change the background color on the main page. This will increase user engagement</td>\n",
       "      <td>3</td>\n",
       "      <td>1</td>\n",
       "      <td>1</td>\n",
       "      <td>1</td>\n",
       "      <td>1.000000</td>\n",
       "    </tr>\n",
       "  </tbody>\n",
       "</table>\n",
       "</div>"
      ],
      "text/plain": [
       "                                                                                                               Hypothesis  \\\n",
       "8                                                        Launch a promotion that gives users discounts on their birthdays   \n",
       "0                                             Add two new channels for attracting traffic. This will bring 30% more users   \n",
       "7                                Add a subscription form to all the main pages. This will help you compile a mailing list   \n",
       "6                                 Show banners with current offers and sales on the main page. This will boost conversion   \n",
       "2          Add product recommendation blocks to the store's site. This will increase conversion and average purchase size   \n",
       "1                                                       Launch your own delivery service. This will shorten delivery time   \n",
       "5                                                     Add a customer review page. This will increase the number of orders   \n",
       "3  Change the category structure. This will increase conversion since users will find the products they want more quickly   \n",
       "4                                        Change the background color on the main page. This will increase user engagement   \n",
       "\n",
       "   Reach  Impact  Confidence  Effort  ice_score  \n",
       "8      1       9           9       5  16.200000  \n",
       "0      3      10           8       6  13.333333  \n",
       "7     10       7           8       5  11.200000  \n",
       "6      5       3           8       3   8.000000  \n",
       "2      8       3           7       3   7.000000  \n",
       "1      2       5           4      10   2.000000  \n",
       "5      3       2           2       3   1.333333  \n",
       "3      8       3           3       8   1.125000  \n",
       "4      3       1           1       1   1.000000  "
      ]
     },
     "execution_count": 6,
     "metadata": {},
     "output_type": "execute_result"
    }
   ],
   "source": [
    "hypotheses.sort_values('ice_score', ascending=False)"
   ]
  },
  {
   "cell_type": "markdown",
   "id": "537873d5",
   "metadata": {},
   "source": [
    "Based on the ICE score, the strongest hypotheses are the number 8, 0, 7, and 6."
   ]
  },
  {
   "cell_type": "markdown",
   "id": "4c353586",
   "metadata": {},
   "source": [
    "### Calculate RICE score"
   ]
  },
  {
   "cell_type": "code",
   "execution_count": 7,
   "id": "770e26d6",
   "metadata": {},
   "outputs": [],
   "source": [
    "hypotheses['rice_score'] = (hypotheses['Reach'] * hypotheses['Impact'] * hypotheses['Confidence']) / hypotheses['Effort']"
   ]
  },
  {
   "cell_type": "code",
   "execution_count": 8,
   "id": "f0e519ad",
   "metadata": {},
   "outputs": [
    {
     "data": {
      "text/html": [
       "<div>\n",
       "<style scoped>\n",
       "    .dataframe tbody tr th:only-of-type {\n",
       "        vertical-align: middle;\n",
       "    }\n",
       "\n",
       "    .dataframe tbody tr th {\n",
       "        vertical-align: top;\n",
       "    }\n",
       "\n",
       "    .dataframe thead th {\n",
       "        text-align: right;\n",
       "    }\n",
       "</style>\n",
       "<table border=\"1\" class=\"dataframe\">\n",
       "  <thead>\n",
       "    <tr style=\"text-align: right;\">\n",
       "      <th></th>\n",
       "      <th>Hypothesis</th>\n",
       "      <th>Reach</th>\n",
       "      <th>Impact</th>\n",
       "      <th>Confidence</th>\n",
       "      <th>Effort</th>\n",
       "      <th>ice_score</th>\n",
       "      <th>rice_score</th>\n",
       "    </tr>\n",
       "  </thead>\n",
       "  <tbody>\n",
       "    <tr>\n",
       "      <th>7</th>\n",
       "      <td>Add a subscription form to all the main pages. This will help you compile a mailing list</td>\n",
       "      <td>10</td>\n",
       "      <td>7</td>\n",
       "      <td>8</td>\n",
       "      <td>5</td>\n",
       "      <td>11.200000</td>\n",
       "      <td>112.0</td>\n",
       "    </tr>\n",
       "    <tr>\n",
       "      <th>2</th>\n",
       "      <td>Add product recommendation blocks to the store's site. This will increase conversion and average purchase size</td>\n",
       "      <td>8</td>\n",
       "      <td>3</td>\n",
       "      <td>7</td>\n",
       "      <td>3</td>\n",
       "      <td>7.000000</td>\n",
       "      <td>56.0</td>\n",
       "    </tr>\n",
       "    <tr>\n",
       "      <th>0</th>\n",
       "      <td>Add two new channels for attracting traffic. This will bring 30% more users</td>\n",
       "      <td>3</td>\n",
       "      <td>10</td>\n",
       "      <td>8</td>\n",
       "      <td>6</td>\n",
       "      <td>13.333333</td>\n",
       "      <td>40.0</td>\n",
       "    </tr>\n",
       "    <tr>\n",
       "      <th>6</th>\n",
       "      <td>Show banners with current offers and sales on the main page. This will boost conversion</td>\n",
       "      <td>5</td>\n",
       "      <td>3</td>\n",
       "      <td>8</td>\n",
       "      <td>3</td>\n",
       "      <td>8.000000</td>\n",
       "      <td>40.0</td>\n",
       "    </tr>\n",
       "    <tr>\n",
       "      <th>8</th>\n",
       "      <td>Launch a promotion that gives users discounts on their birthdays</td>\n",
       "      <td>1</td>\n",
       "      <td>9</td>\n",
       "      <td>9</td>\n",
       "      <td>5</td>\n",
       "      <td>16.200000</td>\n",
       "      <td>16.2</td>\n",
       "    </tr>\n",
       "    <tr>\n",
       "      <th>3</th>\n",
       "      <td>Change the category structure. This will increase conversion since users will find the products they want more quickly</td>\n",
       "      <td>8</td>\n",
       "      <td>3</td>\n",
       "      <td>3</td>\n",
       "      <td>8</td>\n",
       "      <td>1.125000</td>\n",
       "      <td>9.0</td>\n",
       "    </tr>\n",
       "    <tr>\n",
       "      <th>1</th>\n",
       "      <td>Launch your own delivery service. This will shorten delivery time</td>\n",
       "      <td>2</td>\n",
       "      <td>5</td>\n",
       "      <td>4</td>\n",
       "      <td>10</td>\n",
       "      <td>2.000000</td>\n",
       "      <td>4.0</td>\n",
       "    </tr>\n",
       "    <tr>\n",
       "      <th>5</th>\n",
       "      <td>Add a customer review page. This will increase the number of orders</td>\n",
       "      <td>3</td>\n",
       "      <td>2</td>\n",
       "      <td>2</td>\n",
       "      <td>3</td>\n",
       "      <td>1.333333</td>\n",
       "      <td>4.0</td>\n",
       "    </tr>\n",
       "    <tr>\n",
       "      <th>4</th>\n",
       "      <td>Change the background color on the main page. This will increase user engagement</td>\n",
       "      <td>3</td>\n",
       "      <td>1</td>\n",
       "      <td>1</td>\n",
       "      <td>1</td>\n",
       "      <td>1.000000</td>\n",
       "      <td>3.0</td>\n",
       "    </tr>\n",
       "  </tbody>\n",
       "</table>\n",
       "</div>"
      ],
      "text/plain": [
       "                                                                                                               Hypothesis  \\\n",
       "7                                Add a subscription form to all the main pages. This will help you compile a mailing list   \n",
       "2          Add product recommendation blocks to the store's site. This will increase conversion and average purchase size   \n",
       "0                                             Add two new channels for attracting traffic. This will bring 30% more users   \n",
       "6                                 Show banners with current offers and sales on the main page. This will boost conversion   \n",
       "8                                                        Launch a promotion that gives users discounts on their birthdays   \n",
       "3  Change the category structure. This will increase conversion since users will find the products they want more quickly   \n",
       "1                                                       Launch your own delivery service. This will shorten delivery time   \n",
       "5                                                     Add a customer review page. This will increase the number of orders   \n",
       "4                                        Change the background color on the main page. This will increase user engagement   \n",
       "\n",
       "   Reach  Impact  Confidence  Effort  ice_score  rice_score  \n",
       "7     10       7           8       5  11.200000       112.0  \n",
       "2      8       3           7       3   7.000000        56.0  \n",
       "0      3      10           8       6  13.333333        40.0  \n",
       "6      5       3           8       3   8.000000        40.0  \n",
       "8      1       9           9       5  16.200000        16.2  \n",
       "3      8       3           3       8   1.125000         9.0  \n",
       "1      2       5           4      10   2.000000         4.0  \n",
       "5      3       2           2       3   1.333333         4.0  \n",
       "4      3       1           1       1   1.000000         3.0  "
      ]
     },
     "execution_count": 8,
     "metadata": {},
     "output_type": "execute_result"
    }
   ],
   "source": [
    "hypotheses.sort_values('rice_score', ascending=False)"
   ]
  },
  {
   "cell_type": "markdown",
   "id": "0bb330ad",
   "metadata": {},
   "source": [
    "Based on the RICE scores, the best hypotheses are the number 7, 2,0 and 6.\n",
    "\n",
    "The difference between the ICE and he RICE is that the RICE method takes into account, not only how strong an hypothesis is, but also how many users will be affected."
   ]
  },
  {
   "cell_type": "markdown",
   "id": "6a9066ec",
   "metadata": {},
   "source": [
    "### Visualize ICE and RICE scores"
   ]
  },
  {
   "cell_type": "code",
   "execution_count": 9,
   "id": "8ab992f0",
   "metadata": {},
   "outputs": [
    {
     "data": {
      "image/png": "[encoded data removed]",
      "text/plain": [
       "<Figure size 720x720 with 1 Axes>"
      ]
     },
     "metadata": {
      "needs_background": "light"
     },
     "output_type": "display_data"
    }
   ],
   "source": [
    "x = hypotheses['ice_score'].values\n",
    "y = hypotheses['rice_score'].values\n",
    "hypotheses = hypotheses.index.values\n",
    "\n",
    "fig, ax = plt.subplots(figsize=(10,10))\n",
    "ax.scatter(x, y)\n",
    "\n",
    "ax.set_xlabel('ICE/RICE Score', fontsize=14)\n",
    "ax.set_ylabel('RICE', fontsize=14)\n",
    "ax.set_title('ICE', fontsize=18)\n",
    "\n",
    "for i, txt in enumerate(hypotheses):\n",
    "    ax.annotate(txt, (x[i], y[i]), xytext=(10,10), textcoords='offset points')\n",
    "    plt.scatter(x, y, marker='o', color='blue')"
   ]
  },
  {
   "cell_type": "markdown",
   "id": "58e7a565",
   "metadata": {},
   "source": [
    "# Part 2. A/B Test Analysis\n"
   ]
  },
  {
   "cell_type": "code",
   "execution_count": 10,
   "id": "b5a99aa3",
   "metadata": {},
   "outputs": [],
   "source": [
    "orders = pd.read_csv('datasets/orders_us.csv')"
   ]
  },
  {
   "cell_type": "code",
   "execution_count": 11,
   "id": "217ca3f6",
   "metadata": {},
   "outputs": [
    {
     "name": "stdout",
     "output_type": "stream",
     "text": [
      "<class 'pandas.core.frame.DataFrame'>\n",
      "RangeIndex: 1197 entries, 0 to 1196\n",
      "Data columns (total 5 columns):\n",
      " #   Column         Non-Null Count  Dtype  \n",
      "---  ------         --------------  -----  \n",
      " 0   transactionId  1197 non-null   int64  \n",
      " 1   visitorId      1197 non-null   int64  \n",
      " 2   date           1197 non-null   object \n",
      " 3   revenue        1197 non-null   float64\n",
      " 4   group          1197 non-null   object \n",
      "dtypes: float64(1), int64(2), object(2)\n",
      "memory usage: 46.9+ KB\n"
     ]
    }
   ],
   "source": [
    "orders.info()"
   ]
  },
  {
   "cell_type": "code",
   "execution_count": 12,
   "id": "dc9b171c",
   "metadata": {},
   "outputs": [
    {
     "data": {
      "text/html": [
       "<div>\n",
       "<style scoped>\n",
       "    .dataframe tbody tr th:only-of-type {\n",
       "        vertical-align: middle;\n",
       "    }\n",
       "\n",
       "    .dataframe tbody tr th {\n",
       "        vertical-align: top;\n",
       "    }\n",
       "\n",
       "    .dataframe thead th {\n",
       "        text-align: right;\n",
       "    }\n",
       "</style>\n",
       "<table border=\"1\" class=\"dataframe\">\n",
       "  <thead>\n",
       "    <tr style=\"text-align: right;\">\n",
       "      <th></th>\n",
       "      <th>transactionId</th>\n",
       "      <th>visitorId</th>\n",
       "      <th>date</th>\n",
       "      <th>revenue</th>\n",
       "      <th>group</th>\n",
       "    </tr>\n",
       "  </thead>\n",
       "  <tbody>\n",
       "    <tr>\n",
       "      <th>0</th>\n",
       "      <td>3667963787</td>\n",
       "      <td>3312258926</td>\n",
       "      <td>2019-08-15</td>\n",
       "      <td>30.4</td>\n",
       "      <td>B</td>\n",
       "    </tr>\n",
       "    <tr>\n",
       "      <th>1</th>\n",
       "      <td>2804400009</td>\n",
       "      <td>3642806036</td>\n",
       "      <td>2019-08-15</td>\n",
       "      <td>15.2</td>\n",
       "      <td>B</td>\n",
       "    </tr>\n",
       "    <tr>\n",
       "      <th>2</th>\n",
       "      <td>2961555356</td>\n",
       "      <td>4069496402</td>\n",
       "      <td>2019-08-15</td>\n",
       "      <td>10.2</td>\n",
       "      <td>A</td>\n",
       "    </tr>\n",
       "    <tr>\n",
       "      <th>3</th>\n",
       "      <td>3797467345</td>\n",
       "      <td>1196621759</td>\n",
       "      <td>2019-08-15</td>\n",
       "      <td>155.1</td>\n",
       "      <td>B</td>\n",
       "    </tr>\n",
       "    <tr>\n",
       "      <th>4</th>\n",
       "      <td>2282983706</td>\n",
       "      <td>2322279887</td>\n",
       "      <td>2019-08-15</td>\n",
       "      <td>40.5</td>\n",
       "      <td>B</td>\n",
       "    </tr>\n",
       "  </tbody>\n",
       "</table>\n",
       "</div>"
      ],
      "text/plain": [
       "   transactionId   visitorId        date  revenue group\n",
       "0     3667963787  3312258926  2019-08-15     30.4     B\n",
       "1     2804400009  3642806036  2019-08-15     15.2     B\n",
       "2     2961555356  4069496402  2019-08-15     10.2     A\n",
       "3     3797467345  1196621759  2019-08-15    155.1     B\n",
       "4     2282983706  2322279887  2019-08-15     40.5     B"
      ]
     },
     "execution_count": 12,
     "metadata": {},
     "output_type": "execute_result"
    }
   ],
   "source": [
    "orders.head()"
   ]
  },
  {
   "cell_type": "markdown",
   "id": "26878ef3",
   "metadata": {},
   "source": [
    "For each order we have the transaction ID, the customer ID, the date it was placed and the group A or B to which the customer was assigned."
   ]
  },
  {
   "cell_type": "code",
   "execution_count": 13,
   "id": "470b9b9d",
   "metadata": {},
   "outputs": [],
   "source": [
    "groupAB = orders.groupby('visitorId', as_index=False).agg({'group':'nunique'})\n",
    "groupAB = groupAB[groupAB['group'] == 2]"
   ]
  },
  {
   "cell_type": "code",
   "execution_count": 14,
   "id": "57dba283",
   "metadata": {},
   "outputs": [
    {
     "name": "stdout",
     "output_type": "stream",
     "text": [
      "There are 58 visitors who have been placed in both group A and B\n"
     ]
    }
   ],
   "source": [
    "print(\"There are {} visitors who have been placed in both group A and B\".format(len(groupAB)))"
   ]
  },
  {
   "cell_type": "code",
   "execution_count": 15,
   "id": "56ecf9af",
   "metadata": {},
   "outputs": [],
   "source": [
    "orders = orders[~orders['visitorId'].isin(groupAB['visitorId'])]"
   ]
  },
  {
   "cell_type": "markdown",
   "id": "1b833cff",
   "metadata": {},
   "source": [
    "Before proceeding with the A / B test, we should check if the users had been correctly entered in the various groups. \n",
    "\n",
    "I found that 58 clients were assigned to both group A and B.\n",
    "\n",
    "This is a mistake and unfortunately I have no way of determining which group these clients belong to, so we will continue the test without considering these users."
   ]
  },
  {
   "cell_type": "code",
   "execution_count": 16,
   "id": "c498f373",
   "metadata": {},
   "outputs": [],
   "source": [
    "visits = pd.read_csv('datasets/visits_us.csv')"
   ]
  },
  {
   "cell_type": "code",
   "execution_count": 17,
   "id": "00c74f1f",
   "metadata": {},
   "outputs": [
    {
     "name": "stdout",
     "output_type": "stream",
     "text": [
      "<class 'pandas.core.frame.DataFrame'>\n",
      "RangeIndex: 62 entries, 0 to 61\n",
      "Data columns (total 3 columns):\n",
      " #   Column  Non-Null Count  Dtype \n",
      "---  ------  --------------  ----- \n",
      " 0   date    62 non-null     object\n",
      " 1   group   62 non-null     object\n",
      " 2   visits  62 non-null     int64 \n",
      "dtypes: int64(1), object(2)\n",
      "memory usage: 1.6+ KB\n"
     ]
    }
   ],
   "source": [
    "visits.info()"
   ]
  },
  {
   "cell_type": "code",
   "execution_count": 18,
   "id": "c1095d77",
   "metadata": {},
   "outputs": [
    {
     "data": {
      "text/html": [
       "<div>\n",
       "<style scoped>\n",
       "    .dataframe tbody tr th:only-of-type {\n",
       "        vertical-align: middle;\n",
       "    }\n",
       "\n",
       "    .dataframe tbody tr th {\n",
       "        vertical-align: top;\n",
       "    }\n",
       "\n",
       "    .dataframe thead th {\n",
       "        text-align: right;\n",
       "    }\n",
       "</style>\n",
       "<table border=\"1\" class=\"dataframe\">\n",
       "  <thead>\n",
       "    <tr style=\"text-align: right;\">\n",
       "      <th></th>\n",
       "      <th>date</th>\n",
       "      <th>group</th>\n",
       "      <th>visits</th>\n",
       "    </tr>\n",
       "  </thead>\n",
       "  <tbody>\n",
       "    <tr>\n",
       "      <th>0</th>\n",
       "      <td>2019-08-01</td>\n",
       "      <td>A</td>\n",
       "      <td>719</td>\n",
       "    </tr>\n",
       "    <tr>\n",
       "      <th>1</th>\n",
       "      <td>2019-08-02</td>\n",
       "      <td>A</td>\n",
       "      <td>619</td>\n",
       "    </tr>\n",
       "    <tr>\n",
       "      <th>2</th>\n",
       "      <td>2019-08-03</td>\n",
       "      <td>A</td>\n",
       "      <td>507</td>\n",
       "    </tr>\n",
       "    <tr>\n",
       "      <th>3</th>\n",
       "      <td>2019-08-04</td>\n",
       "      <td>A</td>\n",
       "      <td>717</td>\n",
       "    </tr>\n",
       "    <tr>\n",
       "      <th>4</th>\n",
       "      <td>2019-08-05</td>\n",
       "      <td>A</td>\n",
       "      <td>756</td>\n",
       "    </tr>\n",
       "  </tbody>\n",
       "</table>\n",
       "</div>"
      ],
      "text/plain": [
       "         date group  visits\n",
       "0  2019-08-01     A     719\n",
       "1  2019-08-02     A     619\n",
       "2  2019-08-03     A     507\n",
       "3  2019-08-04     A     717\n",
       "4  2019-08-05     A     756"
      ]
     },
     "execution_count": 18,
     "metadata": {},
     "output_type": "execute_result"
    }
   ],
   "source": [
    "visits.head()"
   ]
  },
  {
   "cell_type": "code",
   "execution_count": 19,
   "id": "cbff1778",
   "metadata": {},
   "outputs": [],
   "source": [
    "# converting columns in the righ type and formatting \n",
    "orders['date'] = orders['date'].map(lambda x: dt.datetime.strptime(x, '%Y-%m-%d'))\n",
    "visits['date'] = visits['date'].map(lambda x: dt.datetime.strptime(x, '%Y-%m-%d'))"
   ]
  },
  {
   "cell_type": "markdown",
   "id": "b016e874",
   "metadata": {},
   "source": [
    "We can start the test by determining the cumulative revenue by group and cumulative average order size by group. These metrics help us track changes in the experimental results at each day of the test and can help you decide whether to continue the test."
   ]
  },
  {
   "cell_type": "code",
   "execution_count": 20,
   "id": "bfbca5e4",
   "metadata": {},
   "outputs": [
    {
     "name": "stdout",
     "output_type": "stream",
     "text": [
      "        date group  orders  buyers  revenue  visitors\n",
      "0 2019-08-01     A      23      19   2266.6       719\n",
      "1 2019-08-01     B      17      17    967.2       713\n",
      "2 2019-08-02     A      42      36   3734.9      1338\n",
      "3 2019-08-02     B      40      39   3535.3      1294\n",
      "4 2019-08-03     A      66      60   5550.1      1845\n"
     ]
    }
   ],
   "source": [
    "datesGroups = orders[['date','group']].drop_duplicates()\n",
    "ordersAggregated = datesGroups.apply(lambda x: orders[np.logical_and(orders['date'] <= x['date'], orders['group'] == x['group'])].agg({'date' : 'max', 'group' : 'max', 'transactionId' : pd.Series.nunique, 'visitorId' : pd.Series.nunique, 'revenue' : 'sum'}), axis=1).sort_values(by=['date','group'])\n",
    "visitsAggregated = datesGroups.apply(lambda x: visits[np.logical_and(visits['date'] <= x['date'], visits['group'] == x['group'])].agg({'date' : 'max', 'group' : 'max', 'visits' : 'sum'}), axis=1).sort_values(by=['date','group'])\n",
    "cumulativeData = ordersAggregated.merge(visitsAggregated, left_on=['date', 'group'], right_on=['date', 'group'])\n",
    "cumulativeData.columns = ['date', 'group', 'orders', 'buyers', 'revenue', 'visitors']\n",
    "\n",
    "print(cumulativeData.head(5)) "
   ]
  },
  {
   "cell_type": "markdown",
   "id": "1d957fa9",
   "metadata": {},
   "source": [
    "### Ploting the Cumlative Revenue per Month"
   ]
  },
  {
   "cell_type": "code",
   "execution_count": 21,
   "id": "34d3f4a4",
   "metadata": {},
   "outputs": [
    {
     "data": {
      "image/png": "[encoded data removed]",
      "text/plain": [
       "<Figure size 720x360 with 1 Axes>"
      ]
     },
     "metadata": {
      "needs_background": "light"
     },
     "output_type": "display_data"
    }
   ],
   "source": [
    "cumulativeRevenueA = cumulativeData[cumulativeData['group']=='A'][['date','revenue', 'orders']]\n",
    "\n",
    "cumulativeRevenueB = cumulativeData[cumulativeData['group']=='B'][['date','revenue', 'orders']]\n",
    "\n",
    "\n",
    "plt.figure(figsize=(10, 5))\n",
    "plt.plot(cumulativeRevenueA['date'], cumulativeRevenueA['revenue'], label='A')\n",
    "plt.plot(cumulativeRevenueB['date'], cumulativeRevenueB['revenue'], label='B')\n",
    "plt.xticks(rotation=45)\n",
    "plt.title('Cumulative revenue by month')\n",
    "plt.xlabel('Month')\n",
    "plt.ylabel('Cumulative revenue')\n",
    "plt.grid()\n",
    "plt.legend() \n",
    "plt.show()"
   ]
  },
  {
   "cell_type": "markdown",
   "id": "53f0dd18",
   "metadata": {},
   "source": [
    "Both the cumulative revenues of group A and group B are steadily increasing for the entire test. At some point, however, the revenue of group B had a spike: this may imply either a surge in the number of orders or the presence of very expensive orders."
   ]
  },
  {
   "cell_type": "markdown",
   "id": "958bf9fe",
   "metadata": {},
   "source": [
    "### Ploting Cumulative Average Order Size per Month"
   ]
  },
  {
   "cell_type": "code",
   "execution_count": 22,
   "id": "3f657b84",
   "metadata": {},
   "outputs": [
    {
     "data": {
      "image/png": "[encoded data removed]",
      "text/plain": [
       "<Figure size 720x360 with 1 Axes>"
      ]
     },
     "metadata": {
      "needs_background": "light"
     },
     "output_type": "display_data"
    }
   ],
   "source": [
    "plt.figure(figsize=(10, 5))\n",
    "plt.plot(cumulativeRevenueA['date'], cumulativeRevenueA['revenue']/cumulativeRevenueA['orders'], label='A')\n",
    "plt.plot(cumulativeRevenueB['date'], cumulativeRevenueB['revenue']/cumulativeRevenueB['orders'], label='B')\n",
    "plt.xticks(rotation=45)\n",
    "plt.title('Cumulative average order size by month')\n",
    "plt.xlabel('Month')\n",
    "plt.ylabel('Cumulative average order size')\n",
    "plt.grid()\n",
    "plt.legend() \n",
    "plt.show()"
   ]
  },
  {
   "cell_type": "markdown",
   "id": "98d071b7",
   "metadata": {},
   "source": [
    "For the group A the cumulative average purchase size stabilized by the end of the test.\n",
    "\n",
    "For group B they are still fluctuating but this may be due to the presence of some really big order. We will deal with the presence of these outliers later in the project"
   ]
  },
  {
   "cell_type": "markdown",
   "id": "a4c463df",
   "metadata": {},
   "source": [
    "### Ploting Relative Differences in Average Purchase Order"
   ]
  },
  {
   "cell_type": "code",
   "execution_count": 23,
   "id": "0133ab11",
   "metadata": {},
   "outputs": [
    {
     "data": {
      "image/png": "[encoded data removed]",
      "text/plain": [
       "<Figure size 720x360 with 1 Axes>"
      ]
     },
     "metadata": {
      "needs_background": "light"
     },
     "output_type": "display_data"
    }
   ],
   "source": [
    "mergedCumulativeRevenue = cumulativeRevenueA.merge(cumulativeRevenueB, left_on='date', right_on='date', how='left', suffixes=['A', 'B'])\n",
    "\n",
    "\n",
    "plt.figure(figsize=(10, 5))\n",
    "\n",
    "plt.plot(mergedCumulativeRevenue['date'], (mergedCumulativeRevenue['revenueB']/mergedCumulativeRevenue['ordersB'])/(mergedCumulativeRevenue['revenueA']/mergedCumulativeRevenue['ordersA'])-1)\n",
    "plt.axhline(y=0, color='black', linestyle='--') \n",
    "plt.xticks(rotation=45)\n",
    "plt.title('Difference in average order size by month')\n",
    "plt.xlabel('Month')\n",
    "plt.ylabel('Difference average order size')\n",
    "plt.grid()\n",
    "plt.show()"
   ]
  },
  {
   "cell_type": "markdown",
   "id": "465d3835",
   "metadata": {},
   "source": [
    "We can see considerable and sudden changes which also suggests the presence of some abnormally large orders"
   ]
  },
  {
   "cell_type": "markdown",
   "id": "e59f9c48",
   "metadata": {},
   "source": [
    "### Ploting  cumulative conversion rate"
   ]
  },
  {
   "cell_type": "code",
   "execution_count": 24,
   "id": "fadc3cb2",
   "metadata": {},
   "outputs": [
    {
     "data": {
      "image/png": "[encoded data removed]",
      "text/plain": [
       "<Figure size 720x360 with 1 Axes>"
      ]
     },
     "metadata": {
      "needs_background": "light"
     },
     "output_type": "display_data"
    }
   ],
   "source": [
    "cumulativeData['conversion'] = cumulativeData['orders']/cumulativeData['visitors']\n",
    "\n",
    "# selecting data on group A \n",
    "cumulativeDataA = cumulativeData[cumulativeData['group']=='A']\n",
    "\n",
    "# selecting data on group B\n",
    "cumulativeDataB = cumulativeData[cumulativeData['group']=='B']\n",
    "\n",
    "# plotting the graphs\n",
    "plt.figure(figsize=(10, 5))\n",
    "plt.plot(cumulativeDataA['date'], cumulativeDataA['conversion'], label='A')\n",
    "plt.plot(cumulativeDataB['date'], cumulativeDataB['conversion'], label='B')\n",
    "plt.xticks(rotation=45)\n",
    "plt.title('Cumulative conversion rate by month')\n",
    "plt.xlabel('Month')\n",
    "plt.ylabel('Cumulative conversion rate')\n",
    "plt.grid()\n",
    "plt.legend() \n",
    "plt.axis([\"2019-08-01\", '2019-08-31', 0, 0.05]) \n",
    "plt.show()\n"
   ]
  },
  {
   "cell_type": "markdown",
   "id": "e861323e",
   "metadata": {},
   "source": [
    "Comulative conversion ratehas stabilized for both groups. The group B performs better than group A"
   ]
  },
  {
   "cell_type": "markdown",
   "id": "3384608b",
   "metadata": {},
   "source": [
    "### Ploting Relative Difference in Conversion Rate"
   ]
  },
  {
   "cell_type": "code",
   "execution_count": 25,
   "id": "10064db8",
   "metadata": {},
   "outputs": [
    {
     "data": {
      "image/png": "[encoded data removed]",
      "text/plain": [
       "<Figure size 720x360 with 1 Axes>"
      ]
     },
     "metadata": {
      "needs_background": "light"
     },
     "output_type": "display_data"
    }
   ],
   "source": [
    "mergedCumulativeConversions = cumulativeDataA[['date','conversion']].merge(cumulativeDataB[['date','conversion']], left_on='date', right_on='date', how='left', suffixes=['A', 'B'])\n",
    "\n",
    "plt.figure(figsize=(10, 5))\n",
    "plt.plot(mergedCumulativeConversions['date'], mergedCumulativeConversions['conversionB']/mergedCumulativeConversions['conversionA']-1, label=\"Relative gain in conversion in group B as opposed to group A\")\n",
    "plt.axhline(y=0, color='black', linestyle='--')\n",
    "plt.axhline(y=0.2, color='grey', linestyle='--')\n",
    "plt.xticks(rotation=45)\n",
    "plt.title('Relative difference in conversion rate by month')\n",
    "plt.xlabel('Month')\n",
    "plt.ylabel('Relative difference in conversion rate')\n",
    "plt.grid()\n",
    "plt.legend() \n",
    "plt.axis([\"2019-08-01\", '2019-08-31', -0.5, 0.5]) \n",
    "plt.show()\n"
   ]
  },
  {
   "cell_type": "markdown",
   "id": "cd16c9c7",
   "metadata": {},
   "source": [
    " The relative difference in conversion rate help us to see better the difference between the groups: Group B has a better conversion for almost the entire duration of the test."
   ]
  },
  {
   "cell_type": "markdown",
   "id": "63a2a0d8",
   "metadata": {},
   "source": [
    "### Outlies"
   ]
  },
  {
   "cell_type": "code",
   "execution_count": 26,
   "id": "183aa53f",
   "metadata": {},
   "outputs": [],
   "source": [
    "ordersNumber = orders.groupby(['visitorId', 'group'], as_index=False).agg({'transactionId':pd.Series.nunique})\n",
    "ordersNumber.columns = ['visitorId', 'group', 'orders']"
   ]
  },
  {
   "cell_type": "code",
   "execution_count": 27,
   "id": "e277a95c",
   "metadata": {},
   "outputs": [
    {
     "data": {
      "image/png": "[encoded data removed]",
      "text/plain": [
       "<Figure size 648x648 with 1 Axes>"
      ]
     },
     "metadata": {
      "needs_background": "light"
     },
     "output_type": "display_data"
    }
   ],
   "source": [
    "plt.figure(figsize=(9, 9))\n",
    "x_values = pd.Series(range(0, len(ordersNumber['orders'])))\n",
    "colors = {'A':'blue', 'B':'orange'}\n",
    "\n",
    "plt.scatter(x_values, ordersNumber['orders'], c=ordersNumber['group'].apply(lambda x: colors[x])) \n",
    "plt.title('Number of order by visitors')\n",
    "plt.xlabel('Visitors')\n",
    "plt.ylabel('Number of order')\n",
    "plt.show()"
   ]
  },
  {
   "cell_type": "code",
   "execution_count": 28,
   "id": "098f1bf8",
   "metadata": {},
   "outputs": [
    {
     "name": "stdout",
     "output_type": "stream",
     "text": [
      "[1. 1. 2.]\n"
     ]
    }
   ],
   "source": [
    "print(np.percentile(ordersNumber['orders'], [90, 95, 99])) \n"
   ]
  },
  {
   "cell_type": "markdown",
   "id": "787b15e6",
   "metadata": {},
   "source": [
    "In this part of the project I analyzed the presence of outlies in order size and amount of orders per user. From the scatter plot above we can see that most users place only one order and only rarely 2 or 3 orders are placed. I also calculated the percentiles and we can see that no more than 1% of users place more than 1 order."
   ]
  },
  {
   "cell_type": "code",
   "execution_count": 29,
   "id": "3ad0d025",
   "metadata": {},
   "outputs": [
    {
     "data": {
      "image/png": "[encoded data removed]",
      "text/plain": [
       "<Figure size 648x648 with 1 Axes>"
      ]
     },
     "metadata": {
      "needs_background": "light"
     },
     "output_type": "display_data"
    }
   ],
   "source": [
    "plt.figure(figsize=(9, 9))\n",
    "x_values = pd.Series(range(0, len(orders['revenue'])))\n",
    "colors = {'A':'blue', 'B':'orange'}\n",
    "\n",
    "plt.scatter(x_values, orders['revenue'], c=orders['group'].apply(lambda x: colors[x])) \n",
    "plt.title('Order size by visitors')\n",
    "plt.xlabel('Visitors')\n",
    "plt.ylabel('Order size')\n",
    "plt.show()"
   ]
  },
  {
   "cell_type": "code",
   "execution_count": 30,
   "id": "13d5c7c6",
   "metadata": {},
   "outputs": [
    {
     "name": "stdout",
     "output_type": "stream",
     "text": [
      "[280.8   414.275 830.3  ]\n"
     ]
    }
   ],
   "source": [
    "print(np.percentile(orders['revenue'], [90, 95, 99])) \n"
   ]
  },
  {
   "cell_type": "markdown",
   "id": "55fb826e",
   "metadata": {},
   "source": [
    "In the chart above we can see the order size. Just as we expected, there are some very big orders. Such abnormally large orders distort the results and should be removed from tests.I have determined the percentile for the order revenue and we can see that no more than 5% of visitors spend more than 414,275. We will delete all orders that have a value greater than this figure."
   ]
  },
  {
   "cell_type": "markdown",
   "id": "6af73fe1",
   "metadata": {},
   "source": [
    "## Hypothesis Testing\n",
    "\n",
    "We have seen from the graphs that there is a difference in both the conversion rate and the order size between the two groups. However, we must verify if this difference is statistically significant, to do this we will use the Wilcoxon-Mann-Whitney Nonparametric Test.\n",
    "\n",
    "First I will create two samples that contain each visitor Id and the number of orders placed. If the customer has not placed any order, the number of orders will be 0. In this way the average number of the orders will be equal to the sum of the number of orders divided by the number of visitors, which is nothing more than the conversion rate. The hypothesis we are going to test is that the average of these two groups is the same and therefore the conversion rate will also be the same."
   ]
  },
  {
   "cell_type": "code",
   "execution_count": 31,
   "id": "e2691314",
   "metadata": {},
   "outputs": [],
   "source": [
    "ordersByUsersA = orders[orders['group']=='A'].groupby('visitorId', as_index=False).agg({'transactionId' : pd.Series.nunique})\n",
    "ordersByUsersA.columns = ['visitorId', 'orders']\n",
    "\n",
    "ordersByUsersB = orders[orders['group']=='B'].groupby('visitorId', as_index=False).agg({'transactionId' : pd.Series.nunique})\n",
    "ordersByUsersB.columns = ['visitorId', 'orders'] \n",
    "\n",
    "sampleA = pd.concat([ordersByUsersA['orders'],pd.Series(0, index=np.arange(visits[visits['group']=='A']['visits'].sum() - len(ordersByUsersA['orders'])), name='orders')],axis=0)\n",
    "\n",
    "sampleB = pd.concat([ordersByUsersB['orders'],pd.Series(0, index=np.arange(visits[visits['group']=='B']['visits'].sum() - len(ordersByUsersB['orders'])), name='orders')],axis=0) "
   ]
  },
  {
   "cell_type": "markdown",
   "id": "0e95894c",
   "metadata": {},
   "source": [
    "### Finding the statistical significance of the difference in conversion between the groups \n",
    "\n",
    "Hypotheses:\n",
    "\n",
    "H0: There is no statistically significant difference in conversion between the groups\n",
    "\n",
    "H1: There is statistically significant difference in conversion between the groups\n",
    "\n",
    "Significance level (alpha) = 0.05"
   ]
  },
  {
   "cell_type": "code",
   "execution_count": 32,
   "id": "b8c24e95",
   "metadata": {},
   "outputs": [
    {
     "name": "stdout",
     "output_type": "stream",
     "text": [
      "p-value:  0.011018084110014696\n",
      "Null hypothesis rejected: the difference is statistically significant\n",
      "Relative difference in conversion rate: 0.160\n"
     ]
    }
   ],
   "source": [
    "alpha = 0.05\n",
    "\n",
    "results = stats.mannwhitneyu(sampleA, sampleB, alternative='two-sided')\n",
    "                             \n",
    "print('p-value: ', results.pvalue)\n",
    "\n",
    "if (results.pvalue < alpha):\n",
    "    print(\"Null hypothesis rejected: the difference is statistically significant\")\n",
    "else:\n",
    "    print(\"Failed to reject the null hypothesis: we can't make conclusions about the difference\") \n",
    "\n",
    "print('Relative difference in conversion rate:', \"{0:.3f}\".format(sampleB.mean()/sampleA.mean()-1)) "
   ]
  },
  {
   "cell_type": "markdown",
   "id": "b17c6335",
   "metadata": {},
   "source": [
    "We can see how Group B has a 16% higher conversion rate than Group A. The test confirms that this difference is statistically significant."
   ]
  },
  {
   "cell_type": "markdown",
   "id": "cd7d2e5b",
   "metadata": {},
   "source": [
    "### Finding the statistical significance of the difference in average order size between the groups\n",
    "Hypotheses:\n",
    "\n",
    "H0: There is no statistically significant difference in conversion between the groups\n",
    "\n",
    "H1: There is statistically significant difference in conversion between the groups\n",
    "\n",
    "Alpha = 0.05"
   ]
  },
  {
   "cell_type": "code",
   "execution_count": 33,
   "id": "047708fa",
   "metadata": {},
   "outputs": [
    {
     "name": "stdout",
     "output_type": "stream",
     "text": [
      "p-value:  0.8622329690015668\n",
      "Failed to reject the null hypothesis: we can't make conclusions about the difference\n",
      "Relative difference in average order size: 0.278\n"
     ]
    }
   ],
   "source": [
    "alpha = 0.05\n",
    "\n",
    "results = stats.mannwhitneyu(orders[orders['group']=='A']['revenue'], orders[orders['group']=='B']['revenue'], alternative='two-sided')\n",
    "                             \n",
    "print('p-value: ', results.pvalue)\n",
    "\n",
    "if (results.pvalue < alpha):\n",
    "    print(\"Null hypothesis rejected: the difference is statistically significant\")\n",
    "else:\n",
    "    print(\"Failed to reject the null hypothesis: we can't make conclusions about the difference\") \n",
    "\n",
    "\n",
    "print(\"Relative difference in average order size:\", \"{0:.3f}\".format(orders[orders['group']=='B']['revenue'].mean()/orders[orders['group']=='A']['revenue'].mean()-1)) "
   ]
  },
  {
   "cell_type": "markdown",
   "id": "25f91bb4",
   "metadata": {},
   "source": [
    "As for the average order size, we can see that for group B it is 27.8% larger than that of group A, but the test shows us that this difference is not statistically significant."
   ]
  },
  {
   "cell_type": "markdown",
   "id": "376dba55",
   "metadata": {},
   "source": [
    "To see if the outliers, i.e. visitors with many orders or with expensive orders, have distorted the result, we will repeat the test without considering these visitors. To determine who these users are we will refer to the previously calculated percentiles and we will eliminate from our samples all users with more than 1 order or with orders more expensive than 415."
   ]
  },
  {
   "cell_type": "code",
   "execution_count": 34,
   "id": "e975eb2d",
   "metadata": {},
   "outputs": [
    {
     "name": "stdout",
     "output_type": "stream",
     "text": [
      "Number of users with many or expensive orders: (86,)\n"
     ]
    }
   ],
   "source": [
    "usersWithManyOrders = pd.concat([ordersByUsersA[ordersByUsersA['orders'] > 1]['visitorId'], ordersByUsersB[ordersByUsersB['orders'] > 1]['visitorId']], axis = 0)\n",
    "usersWithExpensiveOrders = orders[orders['revenue'] > 415]['visitorId']\n",
    "abnormalUsers = pd.concat([usersWithManyOrders, usersWithExpensiveOrders], axis = 0).drop_duplicates().sort_values()\n",
    "print('Number of users with many or expensive orders:', abnormalUsers.shape)"
   ]
  },
  {
   "cell_type": "code",
   "execution_count": 35,
   "id": "a13caee4",
   "metadata": {},
   "outputs": [],
   "source": [
    "sampleAFiltered = pd.concat([ordersByUsersA[np.logical_not(ordersByUsersA['visitorId'].isin(abnormalUsers))]['orders'],pd.Series(0, index=np.arange(visits[visits['group']=='A']['visits'].sum() - len(ordersByUsersA['orders'])),name='orders')],axis=0)\n",
    "\n",
    "sampleBFiltered = pd.concat([ordersByUsersB[np.logical_not(ordersByUsersB['visitorId'].isin(abnormalUsers))]['orders'],pd.Series(0, index=np.arange(visits[visits['group']=='B']['visits'].sum() - len(ordersByUsersB['orders'])),name='orders')],axis=0) "
   ]
  },
  {
   "cell_type": "markdown",
   "id": "4c481de8",
   "metadata": {},
   "source": [
    "### Finding the statistical significance of the difference in conversion between the groups using filterd data\n",
    "\n",
    "Hypotheses:\n",
    "\n",
    "H0: There is no statistically significant difference in conversion between the groups\n",
    "\n",
    "H1: There is statistically significant difference in conversion between the groups\n",
    "\n",
    "Significance level (alpha) = 0.05"
   ]
  },
  {
   "cell_type": "code",
   "execution_count": 36,
   "id": "60ece9a0",
   "metadata": {},
   "outputs": [
    {
     "name": "stdout",
     "output_type": "stream",
     "text": [
      "p-value:  0.01593020716573973\n",
      "Null hypothesis rejected: the difference is statistically significant\n",
      "Relative difference in conversion rate: 0.174\n"
     ]
    }
   ],
   "source": [
    "alpha = 0.05\n",
    "\n",
    "results = stats.mannwhitneyu(sampleAFiltered, sampleBFiltered, alternative='two-sided')\n",
    "                             \n",
    "print('p-value: ', results.pvalue)\n",
    "\n",
    "if (results.pvalue < alpha):\n",
    "    print(\"Null hypothesis rejected: the difference is statistically significant\")\n",
    "else:\n",
    "    print(\"Failed to reject the null hypothesis: we can't make conclusions about the difference\") \n",
    "\n",
    "print('Relative difference in conversion rate:', \"{0:.3f}\".format(sampleBFiltered.mean()/sampleAFiltered.mean()-1)) "
   ]
  },
  {
   "cell_type": "markdown",
   "id": "393377e8",
   "metadata": {},
   "source": [
    "By repeating the test for the conversion rate we can see that the result has not changed: group B has a higher conversion rate than group A this time by 17.4%. The test again confirms that this difference is statistically significant."
   ]
  },
  {
   "cell_type": "markdown",
   "id": "746d5144",
   "metadata": {},
   "source": [
    "### Finding the statistical significance of the difference in average order size between the groups using filtered data\n",
    "Hypotheses:\n",
    "\n",
    "H0: There is no statistically significant difference in conversion between the groups\n",
    "\n",
    "H1: There is statistically significant difference in conversion between the groups\n",
    "\n",
    "Alpha = 0.05"
   ]
  },
  {
   "cell_type": "code",
   "execution_count": 37,
   "id": "270d1318",
   "metadata": {},
   "outputs": [
    {
     "name": "stdout",
     "output_type": "stream",
     "text": [
      "p-value:  0.7711877309994826\n",
      "Failed to reject the null hypothesis: we can't make conclusions about the difference\n",
      "Relative difference in average order size: -0.033\n"
     ]
    }
   ],
   "source": [
    "alpha = 0.05\n",
    "\n",
    "results = stats.mannwhitneyu(orders[np.logical_and(\n",
    "        orders['group']=='A',\n",
    "        np.logical_not(orders['visitorId'].isin(abnormalUsers)))]['revenue'],\n",
    "    orders[np.logical_and(\n",
    "        orders['group']=='B',\n",
    "        np.logical_not(orders['visitorId'].isin(abnormalUsers)))]['revenue'], alternative='two-sided')\n",
    "                             \n",
    "print('p-value: ', results.pvalue)\n",
    "\n",
    "if (results.pvalue < alpha):\n",
    "    print(\"Null hypothesis rejected: the difference is statistically significant\")\n",
    "else:\n",
    "    print(\"Failed to reject the null hypothesis: we can't make conclusions about the difference\") \n",
    "\n",
    "\n",
    "print(\"Relative difference in average order size:\", \"{0:.3f}\".format(orders[np.logical_and(orders['group']=='B',np.logical_not(orders['visitorId'].isin(abnormalUsers)))]['revenue'].mean()/\n",
    "    orders[np.logical_and(\n",
    "        orders['group']=='A',\n",
    "        np.logical_not(orders['visitorId'].isin(abnormalUsers)))]['revenue'].mean() - 1)) \n"
   ]
  },
  {
   "cell_type": "markdown",
   "id": "8ab3615d",
   "metadata": {},
   "source": [
    "Repeating the test for the average order size instead we see that this time it is group A to have orders larger than 3% but once again the test shows us that this difference is not statistically significant."
   ]
  },
  {
   "cell_type": "markdown",
   "id": "1558118d",
   "metadata": {},
   "source": [
    "# Conclusion and Recommendations\n",
    "\n",
    "### Conclusion\n",
    "\n",
    "The test can be considered concluded: we have seen how the cumulative conversion rate for both groups had stabilized. The fluctuation in the cumulative order size was due to the presence of a few abnormally large orders in group B. \n",
    "\n",
    "The test can be considered partly a success, we have seen how the conversion rate of group B has improved both if we do the test considering the outliers and if we do not consider them.\n",
    "\n",
    "Unfortunately, regarding the average revenues we have seen that there is no statistically significant difference between the two groups.\n"
   ]
  },
  {
   "cell_type": "code",
   "execution_count": null,
   "id": "427ee9c6",
   "metadata": {},
   "outputs": [],
   "source": []
  }
 ],
 "metadata": {
  "kernelspec": {
   "display_name": "Python 3 (ipykernel)",
   "language": "python",
   "name": "python3"
  },
  "language_info": {
   "codemirror_mode": {
    "name": "ipython",
    "version": 3
   },
   "file_extension": ".py",
   "mimetype": "text/x-python",
   "name": "python",
   "nbconvert_exporter": "python",
   "pygments_lexer": "ipython3",
   "version": "3.9.12"
  }
 },
 "nbformat": 4,
 "nbformat_minor": 5
}
